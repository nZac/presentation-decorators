{
 "cells": [
  {
   "cell_type": "markdown",
   "metadata": {},
   "source": [
    "# Basic Concepts of Functional Python Decorators\n",
    "\n",
    "**By:** [Nick Zaccardi](https://www.nickzaccardi.com)\n",
    "<br>**Sponsored by:** [Level 12](https://www.level12.io)\n",
    "<br>**12 Inspiration:** Simeon Franklin's *[Understanding Python Decorators in 12 Easy Steps!](http://simeonfranklin.com/blog/2012/jul/1/python-decorators-in-12-steps/)*\n",
    "\n",
    "This is part one is a multipart series on Python decorators. This part covers the concepts behind functional decorators.\n",
    "\n",
    "Let's define some terms, these are snippets from the Python [execution model](https://docs.python.org/2.7/reference/executionmodel.html#naming-and-binding) documentation with some of my own words added. These terms are for the use of this presentation and should be accurate in Python however they might not be entirely accurate in a different programming context.\n",
    "\n",
    "<br>\n",
    "<dl>\n",
    "    <dt>Name</dt>\n",
    "    <dd>A reference to an object.</dd>\n",
    "\n",
    "    <br>\n",
    "    <dt>Block</dt>\n",
    "    <dd>A piece of Python program text what is executed as a unit. The following are blocks: a module, a function body, and a class definition</dd>\n",
    "\n",
    "    <br>\n",
    "    <dt>Execution Frame</dt>\n",
    "    <dd>[The space where a block is executed and (NZ)] ... determines where and how execution continues after the block's execution has completed</dd>\n",
    "\n",
    "    <br>\n",
    "    <dt>Scope</dt>\n",
    "    <dd>The visibility of a name within a block.</dd>\n",
    "\n",
    "    <br>\n",
    "    <dt>Binding</dt>\n",
    "    <dd>[Attaches a name to an object for (NZ)] the innermost function block containing the use [of that name].</dd>\n",
    "\n",
    "    <br>\n",
    "    <dt>Globals</dt>\n",
    "    <dd>If a name is bound at the module level, it is a global variable.</dd>\n",
    "\n",
    "    <br>\n",
    "    <dt>Locals</dt>\n",
    "    <dd>A name bound in a block.</dd>\n",
    "\n",
    "    <br>\n",
    "    <dt>Free variable</dt>\n",
    "    <dd>A variable is used in a code block but [, not in global scope, and not bound there (NZ)]</dd>\n",
    "</dl>"
   ]
  },
  {
   "cell_type": "markdown",
   "metadata": {},
   "source": [
    "## Simple functions\n",
    "\n",
    "Consider the following code,\n",
    "\n",
    "```python\n",
    "def spam():\n",
    "    return 'Eggs'\n",
    "```\n",
    "\n",
    "To get started, we need to define a function, we use the `def` [keyword](https://docs.python.org/2/reference/lexical_analysis.html#keywords) to tell Python we want to create a function then give it a name, `spam` in this case.\n",
    "\n",
    "Note the indentation, that is not a tab, it is four literal space characters. Python has a standard way of formatting code called [PEP8](https://www.python.org/dev/peps/pep-0008/) take a look if you are curious.  The Python interpreter (the thing that reads the code and executes it) uses indentation to separate blocks.\n",
    " \n",
    "Functions by default `return` None, but in this case we are returning the string 'Eggs'. Functions can `return` any object and everything in Python is an object. More on `return` values in future steps, patience tonto!"
   ]
  },
  {
   "cell_type": "code",
   "execution_count": null,
   "metadata": {
    "collapsed": false
   },
   "outputs": [],
   "source": [
    "def spam():\n",
    "    return 'Eggs'\n",
    "\n",
    "print spam()"
   ]
  },
  {
   "cell_type": "markdown",
   "metadata": {},
   "source": [
    "## Step 2: Scope\n",
    "\n",
    "\n",
    "'In scope' means that a piece of Python code is visible in the current context. Python has a few function that can help us determine if something is in scope, `locals()` and `globals()`. They both return dictionaries. `locals` describes what variables and functions are availible in the local scope and `globals` in the global scope.\n",
    "\n",
    "Again from the Python documentation:\n",
    "> If a name is bound in a block, it is a local variable of that block. If a name is bound at the module level, it is a global variable. (The variables of the module code block are local and global.) "
   ]
  },
  {
   "cell_type": "code",
   "execution_count": null,
   "metadata": {
    "collapsed": false
   },
   "outputs": [],
   "source": [
    "def bacon():\n",
    "    print locals()\n",
    "\n",
    "bacon()\n",
    "\n",
    "# This pukes everywhere if you are in an iPython Notebook. \n",
    "# Try running it from a normal Python interpreter for a more sane output\n",
    "print globals()"
   ]
  },
  {
   "cell_type": "markdown",
   "metadata": {},
   "source": [
    "## Step 3: Scope Resolution\n",
    "\n",
    "Python has a way to remember if something is in scope, the [LEGB Source](http://stackoverflow.com/a/292502).\n",
    "\n",
    "<dl>\n",
    "    <dt>Local (L)</dt>\n",
    "    <dd>Names assigned in any way within a function \n",
    "      (def or lambda)), and not declared global in that \n",
    "      function.</dd>\n",
    "\n",
    "    <br>\n",
    "    <dt>Enclosing function locals (E)</dt>\n",
    "    <dd>Name in the local scope of any and all enclosing \n",
    "      functions (def or lambda), from inner to outer.</dd>\n",
    "\n",
    "    <br>\n",
    "    <dt>Global module (G)</dt>\n",
    "    <dd>Names assigned at the top-level of a module file, \n",
    "      or declared global in a def within the file.</dd>\n",
    "\n",
    "    <br>\n",
    "    <dt>Built-in Python (B)</dt>\n",
    "    <dd>Names preassigned in the built-in names module \n",
    "      ie: open, range, SyntaxError, ...</dd>\n",
    "</dl>\n",
    "\n",
    "**NOTE:** This is an incomplete definition of scope, in Python there is also the namespace resolution operator `.` which enables the developer to traverse scope and access packages, modules, and class properties. That isn't relavant right now but we will get to it eventually."
   ]
  },
  {
   "cell_type": "code",
   "execution_count": null,
   "metadata": {
    "collapsed": false
   },
   "outputs": [],
   "source": [
    "spam = 'eggs'\n",
    "\n",
    "def bacon():\n",
    "    toast = 'sourdough'\n",
    "    print spam\n",
    "    print locals()\n",
    "\n",
    "bacon()"
   ]
  },
  {
   "cell_type": "markdown",
   "metadata": {},
   "source": [
    "## Step 4: Lifetimes\n",
    "\n",
    "Names can move in and out of scope depending on the execution frame. The scope for a function is created everytime it is called and is destroyed after the function returns. Globals are only availbile in the module they are defined. \n",
    "\n",
    "Builtins are the exception, they are availible everywhere."
   ]
  },
  {
   "cell_type": "code",
   "execution_count": null,
   "metadata": {
    "collapsed": true
   },
   "outputs": [],
   "source": [
    "def bacon():\n",
    "    toast = 'sourdough'\n",
    "\n",
    "print toast"
   ]
  },
  {
   "cell_type": "markdown",
   "metadata": {},
   "source": [
    "## Step 5: Function arguments and parameters\n",
    "\n",
    "Consider this code,\n",
    "\n",
    "```python\n",
    "def spam(eggs):\n",
    "    print locals()\n",
    "\n",
    "spam('bacon')\n",
    "```\n",
    "\n",
    "It defines a function named `spam` which takes a single parameter called `eggs`. The function doesn't use the `eggs` argument in anyway, but we do learn something important; parameters are availible in the local scope. This is not the only way Python enables us to pass data into a function, actually there are a lot of ways, here are a few:\n",
    "\n",
    "```python\n",
    "def no_params():\n",
    "    print locals()\n",
    "\n",
    "def positional_params(spam):\n",
    "    print locals()\n",
    "\n",
    "def optional_named_params(spam=None):\n",
    "    print locals()\n",
    "```"
   ]
  },
  {
   "cell_type": "code",
   "execution_count": null,
   "metadata": {
    "collapsed": false
   },
   "outputs": [],
   "source": [
    "def no_params():\n",
    "    print locals()\n",
    "\n",
    "def positional_params(spam):\n",
    "    print locals()\n",
    "\n",
    "def optional_named_params(spam=None):\n",
    "    print locals()\n",
    "\n",
    "def mix_and_match(spam, eggs=None):\n",
    "    print locals()\n",
    "\n",
    "no_params()\n",
    "positional_params('eggs')\n",
    "optional_named_params()\n",
    "mix_and_match('bacon')\n",
    "positional_params()  # Throws a TypeError since positional_params requires an argument."
   ]
  },
  {
   "cell_type": "markdown",
   "metadata": {},
   "source": [
    "## Step 6: Nested Functions\n",
    "\n",
    "Now the fun stuff!  Python allows the developer to create a function within a function. Consider the following code,\n",
    "\n",
    "```python\n",
    "def spam():\n",
    "    def bacon():\n",
    "        print 'Hello world!' \n",
    "    bacon()\n",
    "spam()\n",
    "```\n",
    "\n",
    "We have learned all the concepts to understand this code, it is just scope and lifetimes. The `bacon` function is in scope within `spam`, in fact if you try to call it out of the `spam` function you will get a `NameError`. You can create an abritray number of nested functions, though to many and you might have a bad design."
   ]
  },
  {
   "cell_type": "code",
   "execution_count": 48,
   "metadata": {
    "collapsed": false
   },
   "outputs": [
    {
     "name": "stdout",
     "output_type": "stream",
     "text": [
      "Hello world!\n"
     ]
    }
   ],
   "source": [
    "def spam():\n",
    "    def bacon():\n",
    "        print 'Hello world!' \n",
    "    bacon()\n",
    "spam()"
   ]
  },
  {
   "cell_type": "markdown",
   "metadata": {},
   "source": [
    "## Step 7: Functions are just objects\n",
    "\n",
    "Everything is an object in Python, read the BDFL's words:\n",
    "\n",
    "> One of my goals for Python was to make it so that all objects were \"first class.\" By this, I meant that I wanted all objects that could be named in the language (e.g., integers, strings, functions, classes, modules, methods, etc.) to have equal status. That is, they can be assigned to variables, placed in lists, stored in dictionaries, passed as arguments, and so forth.\n",
    "> - [Guido van Rossum](http://python-history.blogspot.in/2009/02/first-class-everything.html)\n",
    "\n",
    "Functions are objects, they have names and they can be given new names.  For example,\n",
    "\n",
    "```python\n",
    "def spam():\n",
    "    print 'eggs'\n",
    "\n",
    "bacon = spam\n",
    "bacon()\n",
    "# eggs\n",
    "```\n",
    "\n",
    "You can also pass a function as an argument,\n",
    "\n",
    "```python\n",
    "def spam(func):\n",
    "    func()\n",
    "\n",
    "def eggs():\n",
    "    print 'bacon'\n",
    "\n",
    "spam(eggs)\n",
    "# bacon\n",
    "```\n",
    "\n",
    "Or return a function,\n",
    "\n",
    "```python\n",
    "def spam():\n",
    "    def eggs():\n",
    "        print 'bacon'\n",
    "    \n",
    "    return eggs\n",
    "    \n",
    "toast = spam()\n",
    "type(toast)\n",
    "toast()\n",
    "```\n",
    "\n",
    "Combining all of these concepts gets us most of the way to a simple decorators, hang with it, we are almost there."
   ]
  },
  {
   "cell_type": "code",
   "execution_count": 4,
   "metadata": {
    "collapsed": false
   },
   "outputs": [
    {
     "name": "stdout",
     "output_type": "stream",
     "text": [
      "The lion say, \"spam!\"\n",
      "The lamb says, \"eggs!\"\n"
     ]
    }
   ],
   "source": [
    "def lion(words):\n",
    "    print 'The lion say, \"{}\"'.format(words)\n",
    "\n",
    "def lamb(words):\n",
    "    print 'The lamb says, \"{}\"'.format(words)\n",
    "\n",
    "def speak(animal, words):\n",
    "    animal(words)\n",
    "\n",
    "speak(lion, 'spam!')\n",
    "speak(lamb, 'eggs!')"
   ]
  },
  {
   "cell_type": "markdown",
   "metadata": {},
   "source": [
    "## Step 8: Closures\n",
    "\n",
    "Oh boy, we are getting deep now. Python supports a concept called closures, loosely defined as: \n",
    "\n",
    "> Constructs that inherit variables from their enclosing environment.\n",
    "\n",
    "We should note that a nested function and a closure are not the same thing. A closures can be a nested function and a nested function can be a closure but both don't have to be the either.\n",
    "\n",
    "To be a closure the function must contain a free variable, remember from the definitions that a *free variable* is a variable used in a code block but not defined there and not in global scope. \n",
    "\n",
    "```python\n",
    "def function():\n",
    "    def nested_function():\n",
    "        pass\n",
    "    return nested_function()\n",
    "# nested_function is not a closure, it is simply a returned function that isn't very helpful\n",
    "```\n",
    "\n",
    "```python\n",
    "spam = 'eggs'\n",
    "\n",
    "def function():\n",
    "    def nested_function():\n",
    "        print spam\n",
    "    return nested_function\n",
    "# nested_function is not a closure, it is using a global variable\n",
    "```\n",
    "\n",
    "```python\n",
    "def function(spam):\n",
    "    def nested_function():\n",
    "        print spam\n",
    "    return nested_function\n",
    "# nested_function is a closure because spam is not in global scope AND it is not bound in nested_function making it a free variable.\n",
    "```\n",
    "\n",
    "\n"
   ]
  },
  {
   "cell_type": "code",
   "execution_count": 75,
   "metadata": {
    "collapsed": false
   },
   "outputs": [
    {
     "name": "stdout",
     "output_type": "stream",
     "text": [
      "bacon\n",
      "{'spam': 'bacon'}\n"
     ]
    }
   ],
   "source": [
    "def function(spam):\n",
    "    def nested_function():\n",
    "        print spam\n",
    "        print locals()\n",
    "    return nested_function\n",
    "\n",
    "eggs = function('bacon')\n",
    "eggs()"
   ]
  },
  {
   "cell_type": "markdown",
   "metadata": {
    "collapsed": false
   },
   "source": [
    "## Step 9: A simple decorator\n",
    "\n",
    "We known enough now to understand simple decorators.\n",
    "\n",
    "A decorator is simply a function which takes a function and returns a new function. There is no special syntax to make this happen, all we need is the concepts we learned earlier.\n",
    "\n",
    "```python\n",
    "def decorator(taken_function):\n",
    "\n",
    "    def new_function():\n",
    "        taken_function()\n",
    "        \n",
    "    return new_function\n",
    "```\n",
    "\n",
    "`decorator` is a function, it takes a function as an argument `taken_function`, and returns a new function `new_function` which closes over the passed function `taken_function`.\n",
    "\n",
    "What do we pass to `decorator`? It can be any object (aka everything) that implements the `__call__` method. For example.\n",
    "\n",
    "```python\n",
    "def decorator(taken_function):\n",
    "    def spam():\n",
    "        print 'spam and',\n",
    "        taken_function()  \n",
    "    return spam\n",
    "\n",
    "def eggs():\n",
    "    print 'eggs'\n",
    "\n",
    "decorated_eggs = decorator(eggs)\n",
    "decorated_eggs()\n",
    "```\n",
    "\n",
    "But now we have this other function floating around with `decorated_eggs`. What if we always want `eggs` to be called as decorated. No problem, `eggs` is just a name pointing to an object which means we can point it at a new object.\n",
    "\n",
    "```python\n",
    "eggs = decorator(eggs)\n",
    "```\n"
   ]
  },
  {
   "cell_type": "code",
   "execution_count": 81,
   "metadata": {
    "collapsed": false
   },
   "outputs": [
    {
     "name": "stdout",
     "output_type": "stream",
     "text": [
      "spam and eggs !!!!\n"
     ]
    }
   ],
   "source": [
    "def decorator(taken_function):\n",
    "\n",
    "    def spam():\n",
    "        print 'spam and',\n",
    "        taken_function()\n",
    "        print '!!!!'\n",
    "        \n",
    "    return spam\n",
    "\n",
    "def eggs():\n",
    "    print 'eggs',\n",
    "\n",
    "eggs = decorator(eggs)\n",
    "\n",
    "eggs()"
   ]
  },
  {
   "cell_type": "markdown",
   "metadata": {},
   "source": [
    "## Step 10: Syntactic Sugar with the @ symbol\n",
    "\n",
    "Reassigning functions to make them decorated would be a huge pain so Python added a syntactic helper, the strudel or at sign `@`. It's usage is simple, before the function that should be decorated put the at sign `@` and then the name of the decorating function.\n",
    "\n",
    "```python\n",
    "def decorator(taken_function):\n",
    "\n",
    "    def spam():\n",
    "        print 'spam and',\n",
    "        taken_function()\n",
    "        print '!!!!'\n",
    "        \n",
    "    return spam\n",
    "\n",
    "@decorator\n",
    "def eggs():\n",
    "    print 'eggs',\n",
    "\n",
    "eggs()\n",
    "```"
   ]
  },
  {
   "cell_type": "code",
   "execution_count": 82,
   "metadata": {
    "collapsed": false
   },
   "outputs": [
    {
     "name": "stdout",
     "output_type": "stream",
     "text": [
      "spam and eggs !!!!\n"
     ]
    }
   ],
   "source": [
    "def decorator(taken_function):\n",
    "    def spam():\n",
    "        print 'spam and',\n",
    "        taken_function()\n",
    "        print '!!!!'\n",
    "        \n",
    "    return spam\n",
    "\n",
    "@decorator\n",
    "def eggs():\n",
    "    print 'eggs',\n",
    "\n",
    "eggs()"
   ]
  },
  {
   "cell_type": "markdown",
   "metadata": {},
   "source": [
    "## Step 11: Advanced functions with *args and **kwargs\n",
    "\n",
    "In Step 1 we descriped a simple function that looks like this,\n",
    "\n",
    "```python\n",
    "def spam():\n",
    "    return 'eggs'\n",
    "```\n",
    "\n",
    "We have seen positional parameters in Step 5 and throughout this walkthrough such as,\n",
    "\n",
    "```python\n",
    "def spam(eggs):\n",
    "    return eggs\n",
    "```\n",
    "\n",
    "which enables us to push some additional data `eggs` into `locals` so that the function can manipulate or make decisions from the data. Python has two special types of function parameters commonly named `args` or arguments, and `kwargs` or keyword arguments.\n",
    "\n",
    "For example, say we have a simple `add` function that will sum an **arbitrary** group of numbers together. Of course this is a contrived example since the [sum](https://docs.python.org/2.7/library/functions.html#sum) function exists, but bare with me.  How would we accomplish the goal?\n",
    "\n",
    "We could pass a `list` to the function, for example:\n",
    "\n",
    "```python\n",
    "def add(numbers):\n",
    "    \"\"\"This demonstrates a point... don't do this in real life, just use sum\"\"\"\n",
    "    final = 0\n",
    "    for number in numbers:\n",
    "        final = final + number\n",
    "    return final\n",
    "\n",
    "print add([1,2,3])\n",
    "# 6\n",
    "```\n",
    "\n",
    "That could work, but I am lazy and don't want to create a list each time, I want Python to do it for me and indeed it will.  `*args` enables a developer to pass an arbitrary number of arguments to a function and place those values in a [tuple](https://docs.python.org/2/tutorial/datastructures.html#tuples-and-sequences).\n",
    "\n",
    "```python\n",
    "def add(*args):\n",
    "    \"\"\"Again, only for demonstration\"\"\"\n",
    "    final = 0\n",
    "    for number in args:\n",
    "        final = final + number\n",
    "    return final\n",
    "\n",
    "print add(1, 2, 3)\n",
    "# 6\n",
    "```\n",
    "\n",
    "What if we wanted our add function to **optionaly** return the value as a string? We could add another parameter to the function,\n",
    "\n",
    "```python\n",
    "def add(as_str, *args):\n",
    "    \"\"\"For demonstration only\"\"\"\n",
    "    \n",
    "    final = sum(args)\n",
    "    if as_str:\n",
    "        return str(final)\n",
    "    return final\n",
    "\n",
    "type(add(True, 1, 2, 3))\n",
    "# <type 'str'>\n",
    "```\n",
    "\n",
    "This is ugly though, we have to move `*args` to the last part of the parameter definition and it we have to remember to pass it each time. Instead, let's use `**kwargs` to capture our keywords into a dictonary.\n",
    "\n",
    "```python\n",
    "def add(*args, **kwargs):\n",
    "    \"\"\"For demonstration only\"\"\"\n",
    "    \n",
    "    final = sum(args)\n",
    "    if kwargs.get('as_str', False):\n",
    "        return str(final)\n",
    "    return final\n",
    "\n",
    "add(1, 2, 3, as_str=True)\n",
    "# '6'\n",
    "```"
   ]
  },
  {
   "cell_type": "code",
   "execution_count": 89,
   "metadata": {
    "collapsed": false
   },
   "outputs": [
    {
     "name": "stdout",
     "output_type": "stream",
     "text": [
      "scrambled ('bacon',) {'with_toast': True}\n"
     ]
    }
   ],
   "source": [
    "def spam(eggs, *args, **kwargs):\n",
    "    print eggs, args, kwargs\n",
    "\n",
    "spam('scrambled', 'bacon', with_toast=True)"
   ]
  },
  {
   "cell_type": "markdown",
   "metadata": {},
   "source": [
    "## Step 12: Putting it all in use\n",
    "\n",
    "Let's say we want to write a simple decorator which prints to the screen every time the function is called, say this is for debugging, that might look like this:\n",
    "\n",
    "```python\n",
    "def debug(func):\n",
    "    def decorator():\n",
    "        print 'called {}'.format(func.__name__)\n",
    "        func()\n",
    "    return decorator()\n",
    "\n",
    "@debug\n",
    "def spam():\n",
    "    print \"eggs\"\n",
    "```"
   ]
  },
  {
   "cell_type": "code",
   "execution_count": 87,
   "metadata": {
    "collapsed": false
   },
   "outputs": [
    {
     "name": "stdout",
     "output_type": "stream",
     "text": [
      "called spam\n",
      "eggs\n",
      "called bacon\n",
      "toast\n"
     ]
    }
   ],
   "source": [
    "def debug(func):\n",
    "    def decorator():\n",
    "        print 'called {}'.format(func.__name__)\n",
    "        func()\n",
    "    return decorator\n",
    "\n",
    "@debug\n",
    "def spam():\n",
    "    print \"eggs\"\n",
    "\n",
    "@debug\n",
    "def bacon():\n",
    "    print 'toast'\n",
    "\n",
    "spam()\n",
    "bacon()"
   ]
  }
 ],
 "metadata": {
  "kernelspec": {
   "display_name": "Python 2",
   "language": "python",
   "name": "python2"
  },
  "language_info": {
   "codemirror_mode": {
    "name": "ipython",
    "version": 2
   },
   "file_extension": ".py",
   "mimetype": "text/x-python",
   "name": "python",
   "nbconvert_exporter": "python",
   "pygments_lexer": "ipython2",
   "version": "2.7.9"
  }
 },
 "nbformat": 4,
 "nbformat_minor": 0
}
